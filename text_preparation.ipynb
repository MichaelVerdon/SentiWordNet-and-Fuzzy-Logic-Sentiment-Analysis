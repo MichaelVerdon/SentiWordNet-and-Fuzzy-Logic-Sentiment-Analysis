{
 "cells": [
  {
   "cell_type": "code",
   "execution_count": 28,
   "metadata": {},
   "outputs": [
    {
     "data": {
      "text/html": [
       "<div>\n",
       "<style scoped>\n",
       "    .dataframe tbody tr th:only-of-type {\n",
       "        vertical-align: middle;\n",
       "    }\n",
       "\n",
       "    .dataframe tbody tr th {\n",
       "        vertical-align: top;\n",
       "    }\n",
       "\n",
       "    .dataframe thead th {\n",
       "        text-align: right;\n",
       "    }\n",
       "</style>\n",
       "<table border=\"1\" class=\"dataframe\">\n",
       "  <thead>\n",
       "    <tr style=\"text-align: right;\">\n",
       "      <th></th>\n",
       "      <th>Review</th>\n",
       "      <th>Sentiment</th>\n",
       "    </tr>\n",
       "  </thead>\n",
       "  <tbody>\n",
       "    <tr>\n",
       "      <th>0</th>\n",
       "      <td>So there is no way for me to plug it in here i...</td>\n",
       "      <td>0</td>\n",
       "    </tr>\n",
       "    <tr>\n",
       "      <th>1</th>\n",
       "      <td>Good case, Excellent value.</td>\n",
       "      <td>1</td>\n",
       "    </tr>\n",
       "  </tbody>\n",
       "</table>\n",
       "</div>"
      ],
      "text/plain": [
       "                                              Review  Sentiment\n",
       "0  So there is no way for me to plug it in here i...          0\n",
       "1                        Good case, Excellent value.          1"
      ]
     },
     "execution_count": 28,
     "metadata": {},
     "output_type": "execute_result"
    }
   ],
   "source": [
    "import pandas as pd\n",
    "\n",
    "#file_path = r\"C:\\Users\\mwver\\Documents\\Uni Projects\\MENG\\Advanced AI\\Assignment 2\\yelp_labelled\"\n",
    "#file_path = r\"C:\\Users\\mwver\\Documents\\Uni Projects\\MENG\\Advanced AI\\Assignment 2\\amazon_cells_labelled\"\n",
    "\n",
    "#data = pd.read_table(\"yelp_labelled.txt\", names=[\"Review\", \"Sentiment\"], header=None)\n",
    "data = pd.read_table(\"amazon_cells_labelled.txt\", names=[\"Review\", \"Sentiment\"], header=None)\n",
    "data.head(2)"
   ]
  },
  {
   "cell_type": "code",
   "execution_count": 29,
   "metadata": {},
   "outputs": [
    {
     "data": {
      "text/plain": [
       "Sentiment\n",
       "0    500\n",
       "1    500\n",
       "Name: count, dtype: int64"
      ]
     },
     "execution_count": 29,
     "metadata": {},
     "output_type": "execute_result"
    }
   ],
   "source": [
    "data[\"Sentiment\"].value_counts()"
   ]
  },
  {
   "cell_type": "code",
   "execution_count": 30,
   "metadata": {},
   "outputs": [
    {
     "data": {
      "text/plain": [
       "Review       object\n",
       "Sentiment     int64\n",
       "dtype: object"
      ]
     },
     "execution_count": 30,
     "metadata": {},
     "output_type": "execute_result"
    }
   ],
   "source": [
    "data.dtypes"
   ]
  },
  {
   "cell_type": "code",
   "execution_count": 31,
   "metadata": {},
   "outputs": [
    {
     "data": {
      "text/plain": [
       "['so there is no way for me to plug it in here in the us unless i go by a converter',\n",
       " 'good case excellent value',\n",
       " 'great for the jawbone',\n",
       " 'tied to charger for conversations lasting more than  minutesmajor problems',\n",
       " 'the mic is great']"
      ]
     },
     "execution_count": 31,
     "metadata": {},
     "output_type": "execute_result"
    }
   ],
   "source": [
    "import string\n",
    "# Get rid of useless characters\n",
    "transformed_text = []\n",
    "\n",
    "for review in data[\"Review\"]:\n",
    "\n",
    "    if not isinstance(review, str):\n",
    "        review = '' if pd.isna(review) else str(review)\n",
    "\n",
    "    review = review.translate(str.maketrans('','',string.punctuation))\n",
    "    review = review.translate(str.maketrans('','',string.digits))\n",
    "    review = review.lower()\n",
    "    transformed_text.append(review)\n",
    "\n",
    "transformed_text[:5]"
   ]
  },
  {
   "cell_type": "code",
   "execution_count": 32,
   "metadata": {},
   "outputs": [
    {
     "data": {
      "text/plain": [
       "0    so there is no way for me to plug it in here i...\n",
       "1                            good case excellent value\n",
       "2                                great for the jawbone\n",
       "3    tied to charger for conversations lasting more...\n",
       "4                                     the mic is great\n",
       "dtype: object"
      ]
     },
     "execution_count": 32,
     "metadata": {},
     "output_type": "execute_result"
    }
   ],
   "source": [
    "# Numbered data\n",
    "transformed_text = pd.Series(transformed_text)\n",
    "transformed_text[:5]"
   ]
  },
  {
   "cell_type": "code",
   "execution_count": 33,
   "metadata": {},
   "outputs": [
    {
     "name": "stdout",
     "output_type": "stream",
     "text": [
      "0                                no way plug converter\n",
      "1                            good case excellent value\n",
      "2                                        great jawbone\n",
      "3    tied charger conversations lasting   minutesma...\n",
      "4                                            mic great\n",
      "dtype: object\n"
     ]
    }
   ],
   "source": [
    "import spacy\n",
    "nlp = spacy.load(\"en_core_web_sm\")\n",
    "\n",
    "# Define custom stop words list with exceptions for negations\n",
    "custom_stop_words = set(word for word in nlp.Defaults.stop_words if word.lower() not in ['not', 'no', 'never'])\n",
    "\n",
    "def remove_stop_words(text):\n",
    "    doc = nlp(text)\n",
    "    return ' '.join(token.text for token in doc if token.text.lower() not in custom_stop_words)\n",
    "\n",
    "transformed_text = transformed_text.apply(remove_stop_words)\n",
    "\n",
    "print(transformed_text[:5])"
   ]
  },
  {
   "cell_type": "code",
   "execution_count": 34,
   "metadata": {},
   "outputs": [
    {
     "data": {
      "text/plain": [
       "0                                no way plug converter\n",
       "1                            good case excellent value\n",
       "2                                        great jawbone\n",
       "3    tie charger conversation last minutesmajor pro...\n",
       "4                                            mic great\n",
       "dtype: object"
      ]
     },
     "execution_count": 34,
     "metadata": {},
     "output_type": "execute_result"
    }
   ],
   "source": [
    "# lemmatising, bring words to root word\n",
    "import nltk\n",
    "from nltk.stem import WordNetLemmatizer\n",
    "from nltk.corpus import wordnet\n",
    "\n",
    "lemmatizer = WordNetLemmatizer()\n",
    "\n",
    "def get_wordnet_pos(word):\n",
    "    tag = nltk.pos_tag([word])[0][1][0].upper()\n",
    "    tag_dict = {\"J\":wordnet.ADJ,\n",
    "                \"N\":wordnet.NOUN,\n",
    "                \"V\":wordnet.VERB,\n",
    "                \"R\":wordnet.ADV}\n",
    "    return tag_dict.get(tag, wordnet.NOUN)\n",
    "\n",
    "# Lemmatize with POS tags\n",
    "lemmatizer = WordNetLemmatizer()\n",
    "lemmatized_text = transformed_text.apply(lambda x: ' '.join(lemmatizer.lemmatize(w, get_wordnet_pos(w)) for w in x.split()))\n",
    "lemmatized_text[:5]"
   ]
  },
  {
   "cell_type": "code",
   "execution_count": 35,
   "metadata": {},
   "outputs": [
    {
     "data": {
      "text/plain": [
       "0                                  no way plug converter\n",
       "1                              good case excellent value\n",
       "2                                          great jawbone\n",
       "3      tie charger conversation last minutesmajor pro...\n",
       "4                                              mic great\n",
       "                             ...                        \n",
       "995                  screen smudge easily touch ear face\n",
       "996                           piece junk lose call phone\n",
       "997                               item not match picture\n",
       "998                 thing disappoint infra red port irda\n",
       "999                      not answer call unit never work\n",
       "Name: Review, Length: 1000, dtype: object"
      ]
     },
     "execution_count": 35,
     "metadata": {},
     "output_type": "execute_result"
    }
   ],
   "source": [
    "reviews = list(zip(lemmatized_text, data[\"Sentiment\"]))\n",
    "\n",
    "prepared_data = pd.DataFrame(reviews, columns=[\"Review\", \"Sentiment\"])\n",
    "prepared_data[\"Review\"]"
   ]
  },
  {
   "cell_type": "code",
   "execution_count": 36,
   "metadata": {},
   "outputs": [],
   "source": [
    "#prepared_data.to_csv('prepared_data.csv', index=False)\n",
    "prepared_data.to_csv('prepared_data2.csv', index=False)"
   ]
  }
 ],
 "metadata": {
  "kernelspec": {
   "display_name": "Python 3",
   "language": "python",
   "name": "python3"
  },
  "language_info": {
   "codemirror_mode": {
    "name": "ipython",
    "version": 3
   },
   "file_extension": ".py",
   "mimetype": "text/x-python",
   "name": "python",
   "nbconvert_exporter": "python",
   "pygments_lexer": "ipython3",
   "version": "3.9.13"
  }
 },
 "nbformat": 4,
 "nbformat_minor": 2
}
